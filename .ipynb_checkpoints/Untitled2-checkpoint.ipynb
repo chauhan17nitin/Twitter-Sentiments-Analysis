{
 "cells": [
  {
   "cell_type": "code",
   "execution_count": 1,
   "metadata": {},
   "outputs": [],
   "source": [
    "import pandas as pd\n",
    "import numpy as np\n",
    "import matplotlib.pyplot as plt\n",
    "import seaborn as sns\n",
    "%matplotlib inline\n",
    "# https://datascience.stackexchange.com/questions/17282/xgbregressor-vs-xgboost-train-huge-speed-difference\n",
    "# //xgboost ultimate guide\n",
    "# https://machinelearningmastery.com/avoid-overfitting-by-early-stopping-with-xgboost-in-python/"
   ]
  },
  {
   "cell_type": "code",
   "execution_count": 2,
   "metadata": {},
   "outputs": [],
   "source": [
    "train = pd.read_csv('train_final_matrix_factorized2.csv')\n",
    "test = pd.read_csv('test_final_matrix_factorized2.csv')"
   ]
  },
  {
   "cell_type": "code",
   "execution_count": 3,
   "metadata": {},
   "outputs": [
    {
     "data": {
      "text/html": [
       "<div>\n",
       "<style scoped>\n",
       "    .dataframe tbody tr th:only-of-type {\n",
       "        vertical-align: middle;\n",
       "    }\n",
       "\n",
       "    .dataframe tbody tr th {\n",
       "        vertical-align: top;\n",
       "    }\n",
       "\n",
       "    .dataframe thead th {\n",
       "        text-align: right;\n",
       "    }\n",
       "</style>\n",
       "<table border=\"1\" class=\"dataframe\">\n",
       "  <thead>\n",
       "    <tr style=\"text-align: right;\">\n",
       "      <th></th>\n",
       "      <th>stopwords</th>\n",
       "      <th>numerics</th>\n",
       "      <th>upper</th>\n",
       "      <th>user_mention</th>\n",
       "      <th>sentiment</th>\n",
       "      <th>0_x</th>\n",
       "      <th>1_x</th>\n",
       "      <th>2_x</th>\n",
       "      <th>3_x</th>\n",
       "      <th>4_x</th>\n",
       "      <th>...</th>\n",
       "      <th>64_y.1</th>\n",
       "      <th>65_y.1</th>\n",
       "      <th>66_y.1</th>\n",
       "      <th>67_y.1</th>\n",
       "      <th>68_y.1</th>\n",
       "      <th>69_y.1</th>\n",
       "      <th>word_count</th>\n",
       "      <th>char_count</th>\n",
       "      <th>hastags_count</th>\n",
       "      <th>label</th>\n",
       "    </tr>\n",
       "  </thead>\n",
       "  <tbody>\n",
       "    <tr>\n",
       "      <th>0</th>\n",
       "      <td>10</td>\n",
       "      <td>0</td>\n",
       "      <td>0</td>\n",
       "      <td>1</td>\n",
       "      <td>-0.5</td>\n",
       "      <td>0.152920</td>\n",
       "      <td>0.024042</td>\n",
       "      <td>-0.013365</td>\n",
       "      <td>-0.015425</td>\n",
       "      <td>-0.028913</td>\n",
       "      <td>...</td>\n",
       "      <td>0.042019</td>\n",
       "      <td>0.053804</td>\n",
       "      <td>-0.028318</td>\n",
       "      <td>-0.130021</td>\n",
       "      <td>0.047160</td>\n",
       "      <td>0.000264</td>\n",
       "      <td>6</td>\n",
       "      <td>53</td>\n",
       "      <td>1</td>\n",
       "      <td>0</td>\n",
       "    </tr>\n",
       "    <tr>\n",
       "      <th>1</th>\n",
       "      <td>5</td>\n",
       "      <td>0</td>\n",
       "      <td>0</td>\n",
       "      <td>2</td>\n",
       "      <td>0.0</td>\n",
       "      <td>-0.031551</td>\n",
       "      <td>-0.032375</td>\n",
       "      <td>-0.014239</td>\n",
       "      <td>-0.021525</td>\n",
       "      <td>-0.012394</td>\n",
       "      <td>...</td>\n",
       "      <td>-0.001445</td>\n",
       "      <td>-0.001088</td>\n",
       "      <td>0.000287</td>\n",
       "      <td>0.001595</td>\n",
       "      <td>0.000112</td>\n",
       "      <td>-0.000503</td>\n",
       "      <td>8</td>\n",
       "      <td>47</td>\n",
       "      <td>3</td>\n",
       "      <td>0</td>\n",
       "    </tr>\n",
       "    <tr>\n",
       "      <th>2</th>\n",
       "      <td>1</td>\n",
       "      <td>0</td>\n",
       "      <td>0</td>\n",
       "      <td>0</td>\n",
       "      <td>0.0</td>\n",
       "      <td>-0.005010</td>\n",
       "      <td>-0.039123</td>\n",
       "      <td>0.174968</td>\n",
       "      <td>-0.049157</td>\n",
       "      <td>-0.119076</td>\n",
       "      <td>...</td>\n",
       "      <td>-0.001445</td>\n",
       "      <td>-0.001088</td>\n",
       "      <td>0.000287</td>\n",
       "      <td>0.001595</td>\n",
       "      <td>0.000112</td>\n",
       "      <td>-0.000503</td>\n",
       "      <td>2</td>\n",
       "      <td>14</td>\n",
       "      <td>0</td>\n",
       "      <td>0</td>\n",
       "    </tr>\n",
       "    <tr>\n",
       "      <th>3</th>\n",
       "      <td>5</td>\n",
       "      <td>0</td>\n",
       "      <td>0</td>\n",
       "      <td>0</td>\n",
       "      <td>0.5</td>\n",
       "      <td>-0.239905</td>\n",
       "      <td>0.883869</td>\n",
       "      <td>0.018206</td>\n",
       "      <td>0.018790</td>\n",
       "      <td>0.012645</td>\n",
       "      <td>...</td>\n",
       "      <td>0.002151</td>\n",
       "      <td>-0.002372</td>\n",
       "      <td>-0.000285</td>\n",
       "      <td>0.000318</td>\n",
       "      <td>-0.005283</td>\n",
       "      <td>0.001909</td>\n",
       "      <td>4</td>\n",
       "      <td>18</td>\n",
       "      <td>1</td>\n",
       "      <td>0</td>\n",
       "    </tr>\n",
       "    <tr>\n",
       "      <th>4</th>\n",
       "      <td>1</td>\n",
       "      <td>0</td>\n",
       "      <td>0</td>\n",
       "      <td>0</td>\n",
       "      <td>0.0</td>\n",
       "      <td>-0.027979</td>\n",
       "      <td>-0.026474</td>\n",
       "      <td>-0.011341</td>\n",
       "      <td>-0.020703</td>\n",
       "      <td>-0.012069</td>\n",
       "      <td>...</td>\n",
       "      <td>-0.032624</td>\n",
       "      <td>0.017314</td>\n",
       "      <td>0.046966</td>\n",
       "      <td>0.068540</td>\n",
       "      <td>0.103433</td>\n",
       "      <td>-0.011487</td>\n",
       "      <td>2</td>\n",
       "      <td>18</td>\n",
       "      <td>1</td>\n",
       "      <td>0</td>\n",
       "    </tr>\n",
       "  </tbody>\n",
       "</table>\n",
       "<p>5 rows × 349 columns</p>\n",
       "</div>"
      ],
      "text/plain": [
       "   stopwords  numerics  upper  user_mention  sentiment       0_x       1_x  \\\n",
       "0         10         0      0             1       -0.5  0.152920  0.024042   \n",
       "1          5         0      0             2        0.0 -0.031551 -0.032375   \n",
       "2          1         0      0             0        0.0 -0.005010 -0.039123   \n",
       "3          5         0      0             0        0.5 -0.239905  0.883869   \n",
       "4          1         0      0             0        0.0 -0.027979 -0.026474   \n",
       "\n",
       "        2_x       3_x       4_x  ...    64_y.1    65_y.1    66_y.1    67_y.1  \\\n",
       "0 -0.013365 -0.015425 -0.028913  ...  0.042019  0.053804 -0.028318 -0.130021   \n",
       "1 -0.014239 -0.021525 -0.012394  ... -0.001445 -0.001088  0.000287  0.001595   \n",
       "2  0.174968 -0.049157 -0.119076  ... -0.001445 -0.001088  0.000287  0.001595   \n",
       "3  0.018206  0.018790  0.012645  ...  0.002151 -0.002372 -0.000285  0.000318   \n",
       "4 -0.011341 -0.020703 -0.012069  ... -0.032624  0.017314  0.046966  0.068540   \n",
       "\n",
       "     68_y.1    69_y.1  word_count  char_count  hastags_count  label  \n",
       "0  0.047160  0.000264           6          53              1      0  \n",
       "1  0.000112 -0.000503           8          47              3      0  \n",
       "2  0.000112 -0.000503           2          14              0      0  \n",
       "3 -0.005283  0.001909           4          18              1      0  \n",
       "4  0.103433 -0.011487           2          18              1      0  \n",
       "\n",
       "[5 rows x 349 columns]"
      ]
     },
     "execution_count": 3,
     "metadata": {},
     "output_type": "execute_result"
    }
   ],
   "source": [
    "train.head()"
   ]
  },
  {
   "cell_type": "code",
   "execution_count": 6,
   "metadata": {},
   "outputs": [
    {
     "data": {
      "text/plain": [
       "<matplotlib.axes._subplots.AxesSubplot at 0x11d3140c2b0>"
      ]
     },
     "execution_count": 6,
     "metadata": {},
     "output_type": "execute_result"
    },
    {
     "data": {
      "image/png": "[encoded data removed]",
      "text/plain": [
       "<Figure size 432x288 with 1 Axes>"
      ]
     },
     "metadata": {
      "needs_background": "light"
     },
     "output_type": "display_data"
    }
   ],
   "source": [
    "sns.scatterplot(y = 'user_mention', x = 'label', data = train)"
   ]
  },
  {
   "cell_type": "code",
   "execution_count": 4,
   "metadata": {},
   "outputs": [],
   "source": [
    "y = train['label']\n",
    "train.drop(['label'], axis = 1, inplace = True)"
   ]
  },
  {
   "cell_type": "code",
   "execution_count": 5,
   "metadata": {},
   "outputs": [],
   "source": [
    "x_train = train.values\n",
    "y_train = y.values\n",
    "x_test = test.values"
   ]
  },
  {
   "cell_type": "code",
   "execution_count": 6,
   "metadata": {},
   "outputs": [],
   "source": [
    "import sklearn\n",
    "from sklearn.preprocessing import MinMaxScaler\n",
    "sc = MinMaxScaler(feature_range = (0,1))\n",
    "x_train = sc.fit_transform(x_train)\n",
    "x_test = sc.transform(x_test)"
   ]
  },
  {
   "cell_type": "code",
   "execution_count": 7,
   "metadata": {},
   "outputs": [],
   "source": [
    "from sklearn.model_selection import train_test_split\n",
    "x_train, x_valid, y_train, y_valid = train_test_split(x_train, y_train, test_size = 0.2, random_state = 42)"
   ]
  },
  {
   "cell_type": "code",
   "execution_count": 46,
   "metadata": {},
   "outputs": [
    {
     "data": {
      "text/plain": [
       "XGBClassifier(base_score=0.5, booster='gbtree', colsample_bylevel=1,\n",
       "              colsample_bynode=1, colsample_bytree=0.5, gamma=1,\n",
       "              learning_rate=0.01, max_delta_step=0, max_depth=8,\n",
       "              min_child_weight=10, missing=None, n_estimators=3000, n_jobs=1,\n",
       "              nthread=None, objective='binary:logistic', random_state=0,\n",
       "              reg_alpha=0.3, reg_lambda=1, scale_pos_weight=1, seed=None,\n",
       "              silent=False, subsample=0.8, verbosity=1)"
      ]
     },
     "execution_count": 46,
     "metadata": {},
     "output_type": "execute_result"
    }
   ],
   "source": [
    "import xgboost as xgb\n",
    "from sklearn.metrics import f1_score, make_scorer\n",
    "xg_cl = xgb.XGBClassifier(silent = False, reg_alpha = 0.3, objective = \"binary:logistic\",\n",
    "                          learning_rate = 0.1, subsample = 0.8, n_estimators = 3000, \n",
    "                          min_child_weight = 10, max_depth = 8, colsample_bytree = 0.5 , gamma = 1)\n",
    "xg_cl.fit(x_train, y_train)"
   ]
  },
  {
   "cell_type": "code",
   "execution_count": null,
   "metadata": {},
   "outputs": [],
   "source": [
    "from sklearn.model_selection import GridSearchCV\n",
    "import xgboost as xgb\n",
    "from sklearn.metrics import f1_score, make_scorer\n",
    "f1_score = make_scorer(f1_score)\n",
    "tuned_parameters = {'n_estimators': [2500, 3000, 3500],\n",
    "                    'max_depth': [6, 8, 10],\n",
    "                     'min_child_weight': [4, 6, 8],\n",
    "                      'gamma': [1e-3, 0.8, 0.3],\n",
    "                     'reg_aplha': [0.3, 0.5],\n",
    "                     'learning_rate': [0.1, 0.01, 0.05]}\n",
    "                   \n",
    "from sklearn.model_selection import KFold\n",
    "xgb_cv = xgb.XGBClassifier(objective='binary:logistic',\n",
    "                    silent=True, nthread=1, n_jobs = -1 )\n",
    "\n",
    "kf = KFold(n_splits = 5, shuffle = True, random_state = 1001).split(X=x_train, y=y_train)\n",
    "gscv = GridSearchCV(estimator = xgb_cv, param_grid = tuned_parameters, scoring = f1_score, cv = kf  )\n",
    "model = gscv.fit(X = x_train, y = y_train)\n"
   ]
  },
  {
   "cell_type": "code",
   "execution_count": 47,
   "metadata": {},
   "outputs": [
    {
     "name": "stdout",
     "output_type": "stream",
     "text": [
      "0.6025459688826025\n"
     ]
    }
   ],
   "source": [
    "y_pred = xg_cl.predict(x_valid)\n",
    "from sklearn.metrics import confusion_matrix, f1_score\n",
    "print(f1_score(y_valid, y_pred))"
   ]
  },
  {
   "cell_type": "code",
   "execution_count": 39,
   "metadata": {},
   "outputs": [
    {
     "name": "stdout",
     "output_type": "stream",
     "text": [
      "17197\n"
     ]
    }
   ],
   "source": [
    "y_test = xg_cl.predict(x_test)\n",
    "\n",
    "y_test = list(y_test)\n",
    "print(len(y_test))\n",
    "\n",
    "\n",
    "test4 = pd.read_csv('test.csv')\n",
    "#test4.head()\n",
    "ied = list(test4['id'])\n",
    "dictionary = {'id':ied, 'label':y_test}\n",
    "df = pd.DataFrame(dictionary)\n",
    "df.head()\n",
    "df.to_csv('xgboost2.csv',index = False)"
   ]
  },
  {
   "cell_type": "code",
   "execution_count": null,
   "metadata": {},
   "outputs": [],
   "source": [
    "import lightgbm as lgb\n"
   ]
  }
 ],
 "metadata": {
  "kernelspec": {
   "display_name": "Python 3",
   "language": "python",
   "name": "python3"
  },
  "language_info": {
   "codemirror_mode": {
    "name": "ipython",
    "version": 3
   },
   "file_extension": ".py",
   "mimetype": "text/x-python",
   "name": "python",
   "nbconvert_exporter": "python",
   "pygments_lexer": "ipython3",
   "version": "3.6.8"
  }
 },
 "nbformat": 4,
 "nbformat_minor": 2
}
